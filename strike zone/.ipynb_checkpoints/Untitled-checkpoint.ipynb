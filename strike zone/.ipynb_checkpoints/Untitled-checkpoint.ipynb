{
 "cells": [
  {
   "cell_type": "code",
   "execution_count": 1,
   "id": "fdd2cc9d",
   "metadata": {},
   "outputs": [],
   "source": [
    "from PyMLB import *"
   ]
  },
  {
   "cell_type": "markdown",
   "id": "34facf7a",
   "metadata": {},
   "source": [
    "This time we will look at what strike zone looks like for Korean Pitcher \"Ryu Hyun-Jin.\"\n",
    "First we need to pull all the game ID for this particular pitcher for this season."
   ]
  },
  {
   "cell_type": "code",
   "execution_count": 2,
   "id": "ff7f68cd",
   "metadata": {},
   "outputs": [
    {
     "name": "stdout",
     "output_type": "stream",
     "text": [
      "http://statsapi.mlb.com/api//v1/schedule?sportId=1&startDate=2021-04-01&endDate=2021-06-10&teamId=141\n"
     ]
    }
   ],
   "source": [
    "schedule = get_schedule(teamId = 141, startDate = \"2021-04-01\", endDate = today)"
   ]
  },
  {
   "cell_type": "code",
   "execution_count": 3,
   "id": "523f5ca7",
   "metadata": {},
   "outputs": [
    {
     "data": {
      "text/plain": [
       "{'2021-04-01': [{'gamePk': 634642,\n",
       "   'home': {'ID': 147, 'name': 'New York Yankees'},\n",
       "   'away': {'ID': 141, 'name': 'Toronto Blue Jays'}}],\n",
       " '2021-04-03': [{'gamePk': 634644,\n",
       "   'home': {'ID': 147, 'name': 'New York Yankees'},\n",
       "   'away': {'ID': 141, 'name': 'Toronto Blue Jays'}}],\n",
       " '2021-04-04': [{'gamePk': 634607,\n",
       "   'home': {'ID': 147, 'name': 'New York Yankees'},\n",
       "   'away': {'ID': 141, 'name': 'Toronto Blue Jays'}}],\n",
       " '2021-04-05': [{'gamePk': 634612,\n",
       "   'home': {'ID': 140, 'name': 'Texas Rangers'},\n",
       "   'away': {'ID': 141, 'name': 'Toronto Blue Jays'}}],\n",
       " '2021-04-06': [{'gamePk': 634635,\n",
       "   'home': {'ID': 140, 'name': 'Texas Rangers'},\n",
       "   'away': {'ID': 141, 'name': 'Toronto Blue Jays'}}],\n",
       " '2021-04-07': [{'gamePk': 634583,\n",
       "   'home': {'ID': 140, 'name': 'Texas Rangers'},\n",
       "   'away': {'ID': 141, 'name': 'Toronto Blue Jays'}}],\n",
       " '2021-04-08': [{'gamePk': 634545,\n",
       "   'home': {'ID': 141, 'name': 'Toronto Blue Jays'},\n",
       "   'away': {'ID': 108, 'name': 'Los Angeles Angels'}}],\n",
       " '2021-04-09': [{'gamePk': 634512,\n",
       "   'home': {'ID': 141, 'name': 'Toronto Blue Jays'},\n",
       "   'away': {'ID': 108, 'name': 'Los Angeles Angels'}}],\n",
       " '2021-04-10': [{'gamePk': 632227,\n",
       "   'home': {'ID': 141, 'name': 'Toronto Blue Jays'},\n",
       "   'away': {'ID': 108, 'name': 'Los Angeles Angels'}}],\n",
       " '2021-04-11': [{'gamePk': 632208,\n",
       "   'home': {'ID': 141, 'name': 'Toronto Blue Jays'},\n",
       "   'away': {'ID': 108, 'name': 'Los Angeles Angels'}}],\n",
       " '2021-04-12': [{'gamePk': 632203,\n",
       "   'home': {'ID': 141, 'name': 'Toronto Blue Jays'},\n",
       "   'away': {'ID': 147, 'name': 'New York Yankees'}}],\n",
       " '2021-04-13': [{'gamePk': 634569,\n",
       "   'home': {'ID': 141, 'name': 'Toronto Blue Jays'},\n",
       "   'away': {'ID': 147, 'name': 'New York Yankees'}}],\n",
       " '2021-04-14': [{'gamePk': 634513,\n",
       "   'home': {'ID': 141, 'name': 'Toronto Blue Jays'},\n",
       "   'away': {'ID': 147, 'name': 'New York Yankees'}}],\n",
       " '2021-04-15': [{'gamePk': 634475,\n",
       "   'home': {'ID': 118, 'name': 'Kansas City Royals'},\n",
       "   'away': {'ID': 141, 'name': 'Toronto Blue Jays'}}],\n",
       " '2021-04-16': [{'gamePk': 634520,\n",
       "   'home': {'ID': 118, 'name': 'Kansas City Royals'},\n",
       "   'away': {'ID': 141, 'name': 'Toronto Blue Jays'}}],\n",
       " '2021-04-17': [{'gamePk': 634477,\n",
       "   'home': {'ID': 118, 'name': 'Kansas City Royals'},\n",
       "   'away': {'ID': 141, 'name': 'Toronto Blue Jays'}},\n",
       "  {'gamePk': 634520,\n",
       "   'home': {'ID': 118, 'name': 'Kansas City Royals'},\n",
       "   'away': {'ID': 141, 'name': 'Toronto Blue Jays'}}],\n",
       " '2021-04-18': [{'gamePk': 634442,\n",
       "   'home': {'ID': 118, 'name': 'Kansas City Royals'},\n",
       "   'away': {'ID': 141, 'name': 'Toronto Blue Jays'}}],\n",
       " '2021-04-20': [{'gamePk': 634409,\n",
       "   'home': {'ID': 111, 'name': 'Boston Red Sox'},\n",
       "   'away': {'ID': 141, 'name': 'Toronto Blue Jays'}}],\n",
       " '2021-04-21': [{'gamePk': 634459,\n",
       "   'home': {'ID': 111, 'name': 'Boston Red Sox'},\n",
       "   'away': {'ID': 141, 'name': 'Toronto Blue Jays'}}],\n",
       " '2021-04-23': [{'gamePk': 634413,\n",
       "   'home': {'ID': 139, 'name': 'Tampa Bay Rays'},\n",
       "   'away': {'ID': 141, 'name': 'Toronto Blue Jays'}}],\n",
       " '2021-04-24': [{'gamePk': 634358,\n",
       "   'home': {'ID': 139, 'name': 'Tampa Bay Rays'},\n",
       "   'away': {'ID': 141, 'name': 'Toronto Blue Jays'}}],\n",
       " '2021-04-25': [{'gamePk': 634376,\n",
       "   'home': {'ID': 139, 'name': 'Tampa Bay Rays'},\n",
       "   'away': {'ID': 141, 'name': 'Toronto Blue Jays'}}],\n",
       " '2021-04-27': [{'gamePk': 634335,\n",
       "   'home': {'ID': 141, 'name': 'Toronto Blue Jays'},\n",
       "   'away': {'ID': 120, 'name': 'Washington Nationals'}}],\n",
       " '2021-04-28': [{'gamePk': 634348,\n",
       "   'home': {'ID': 141, 'name': 'Toronto Blue Jays'},\n",
       "   'away': {'ID': 120, 'name': 'Washington Nationals'}}],\n",
       " '2021-04-30': [{'gamePk': 634280,\n",
       "   'home': {'ID': 141, 'name': 'Toronto Blue Jays'},\n",
       "   'away': {'ID': 144, 'name': 'Atlanta Braves'}}],\n",
       " '2021-05-01': [{'gamePk': 634312,\n",
       "   'home': {'ID': 141, 'name': 'Toronto Blue Jays'},\n",
       "   'away': {'ID': 144, 'name': 'Atlanta Braves'}}],\n",
       " '2021-05-02': [{'gamePk': 634256,\n",
       "   'home': {'ID': 141, 'name': 'Toronto Blue Jays'},\n",
       "   'away': {'ID': 144, 'name': 'Atlanta Braves'}}],\n",
       " '2021-05-03': [{'gamePk': 634293,\n",
       "   'home': {'ID': 133, 'name': 'Oakland Athletics'},\n",
       "   'away': {'ID': 141, 'name': 'Toronto Blue Jays'}}],\n",
       " '2021-05-04': [{'gamePk': 634278,\n",
       "   'home': {'ID': 133, 'name': 'Oakland Athletics'},\n",
       "   'away': {'ID': 141, 'name': 'Toronto Blue Jays'}}],\n",
       " '2021-05-05': [{'gamePk': 634248,\n",
       "   'home': {'ID': 133, 'name': 'Oakland Athletics'},\n",
       "   'away': {'ID': 141, 'name': 'Toronto Blue Jays'}}],\n",
       " '2021-05-06': [{'gamePk': 634231,\n",
       "   'home': {'ID': 133, 'name': 'Oakland Athletics'},\n",
       "   'away': {'ID': 141, 'name': 'Toronto Blue Jays'}}],\n",
       " '2021-05-07': [{'gamePk': 634201,\n",
       "   'home': {'ID': 117, 'name': 'Houston Astros'},\n",
       "   'away': {'ID': 141, 'name': 'Toronto Blue Jays'}}],\n",
       " '2021-05-08': [{'gamePk': 634193,\n",
       "   'home': {'ID': 117, 'name': 'Houston Astros'},\n",
       "   'away': {'ID': 141, 'name': 'Toronto Blue Jays'}}],\n",
       " '2021-05-09': [{'gamePk': 634192,\n",
       "   'home': {'ID': 117, 'name': 'Houston Astros'},\n",
       "   'away': {'ID': 141, 'name': 'Toronto Blue Jays'}}],\n",
       " '2021-05-11': [{'gamePk': 634163,\n",
       "   'home': {'ID': 144, 'name': 'Atlanta Braves'},\n",
       "   'away': {'ID': 141, 'name': 'Toronto Blue Jays'}}],\n",
       " '2021-05-12': [{'gamePk': 634238,\n",
       "   'home': {'ID': 144, 'name': 'Atlanta Braves'},\n",
       "   'away': {'ID': 141, 'name': 'Toronto Blue Jays'}}],\n",
       " '2021-05-13': [{'gamePk': 634114,\n",
       "   'home': {'ID': 144, 'name': 'Atlanta Braves'},\n",
       "   'away': {'ID': 141, 'name': 'Toronto Blue Jays'}}],\n",
       " '2021-05-14': [{'gamePk': 634119,\n",
       "   'home': {'ID': 141, 'name': 'Toronto Blue Jays'},\n",
       "   'away': {'ID': 143, 'name': 'Philadelphia Phillies'}}],\n",
       " '2021-05-15': [{'gamePk': 634139,\n",
       "   'home': {'ID': 141, 'name': 'Toronto Blue Jays'},\n",
       "   'away': {'ID': 143, 'name': 'Philadelphia Phillies'}}],\n",
       " '2021-05-16': [{'gamePk': 634069,\n",
       "   'home': {'ID': 141, 'name': 'Toronto Blue Jays'},\n",
       "   'away': {'ID': 143, 'name': 'Philadelphia Phillies'}}],\n",
       " '2021-05-18': [{'gamePk': 634133,\n",
       "   'home': {'ID': 141, 'name': 'Toronto Blue Jays'},\n",
       "   'away': {'ID': 111, 'name': 'Boston Red Sox'}}],\n",
       " '2021-05-19': [{'gamePk': 634116,\n",
       "   'home': {'ID': 141, 'name': 'Toronto Blue Jays'},\n",
       "   'away': {'ID': 111, 'name': 'Boston Red Sox'}}],\n",
       " '2021-05-20': [{'gamePk': 634018,\n",
       "   'home': {'ID': 141, 'name': 'Toronto Blue Jays'},\n",
       "   'away': {'ID': 111, 'name': 'Boston Red Sox'}}],\n",
       " '2021-05-21': [{'gamePk': 634078,\n",
       "   'home': {'ID': 141, 'name': 'Toronto Blue Jays'},\n",
       "   'away': {'ID': 139, 'name': 'Tampa Bay Rays'}}],\n",
       " '2021-05-22': [{'gamePk': 634081,\n",
       "   'home': {'ID': 141, 'name': 'Toronto Blue Jays'},\n",
       "   'away': {'ID': 139, 'name': 'Tampa Bay Rays'}}],\n",
       " '2021-05-23': [{'gamePk': 633975,\n",
       "   'home': {'ID': 141, 'name': 'Toronto Blue Jays'},\n",
       "   'away': {'ID': 139, 'name': 'Tampa Bay Rays'}}],\n",
       " '2021-05-24': [{'gamePk': 633963,\n",
       "   'home': {'ID': 141, 'name': 'Toronto Blue Jays'},\n",
       "   'away': {'ID': 139, 'name': 'Tampa Bay Rays'}}],\n",
       " '2021-05-25': [{'gamePk': 633956,\n",
       "   'home': {'ID': 147, 'name': 'New York Yankees'},\n",
       "   'away': {'ID': 141, 'name': 'Toronto Blue Jays'}}],\n",
       " '2021-05-26': [{'gamePk': 633910,\n",
       "   'home': {'ID': 147, 'name': 'New York Yankees'},\n",
       "   'away': {'ID': 141, 'name': 'Toronto Blue Jays'}}],\n",
       " '2021-05-27': [{'gamePk': 633974,\n",
       "   'home': {'ID': 147, 'name': 'New York Yankees'},\n",
       "   'away': {'ID': 141, 'name': 'Toronto Blue Jays'}},\n",
       "  {'gamePk': 633910,\n",
       "   'home': {'ID': 147, 'name': 'New York Yankees'},\n",
       "   'away': {'ID': 141, 'name': 'Toronto Blue Jays'}}],\n",
       " '2021-05-28': [{'gamePk': 633966,\n",
       "   'home': {'ID': 114, 'name': 'Cleveland Indians'},\n",
       "   'away': {'ID': 141, 'name': 'Toronto Blue Jays'}}],\n",
       " '2021-05-29': [{'gamePk': 634042,\n",
       "   'home': {'ID': 114, 'name': 'Cleveland Indians'},\n",
       "   'away': {'ID': 141, 'name': 'Toronto Blue Jays'}}],\n",
       " '2021-05-30': [{'gamePk': 633935,\n",
       "   'home': {'ID': 114, 'name': 'Cleveland Indians'},\n",
       "   'away': {'ID': 141, 'name': 'Toronto Blue Jays'}},\n",
       "  {'gamePk': 634042,\n",
       "   'home': {'ID': 114, 'name': 'Cleveland Indians'},\n",
       "   'away': {'ID': 141, 'name': 'Toronto Blue Jays'}}],\n",
       " '2021-06-01': [{'gamePk': 633857,\n",
       "   'home': {'ID': 141, 'name': 'Toronto Blue Jays'},\n",
       "   'away': {'ID': 146, 'name': 'Miami Marlins'}}],\n",
       " '2021-06-02': [{'gamePk': 633844,\n",
       "   'home': {'ID': 141, 'name': 'Toronto Blue Jays'},\n",
       "   'away': {'ID': 146, 'name': 'Miami Marlins'}}],\n",
       " '2021-06-04': [{'gamePk': 633815,\n",
       "   'home': {'ID': 141, 'name': 'Toronto Blue Jays'},\n",
       "   'away': {'ID': 117, 'name': 'Houston Astros'}}],\n",
       " '2021-06-05': [{'gamePk': 633800,\n",
       "   'home': {'ID': 141, 'name': 'Toronto Blue Jays'},\n",
       "   'away': {'ID': 117, 'name': 'Houston Astros'}}],\n",
       " '2021-06-06': [{'gamePk': 633780,\n",
       "   'home': {'ID': 141, 'name': 'Toronto Blue Jays'},\n",
       "   'away': {'ID': 117, 'name': 'Houston Astros'}}],\n",
       " '2021-06-08': [{'gamePk': 633788,\n",
       "   'home': {'ID': 145, 'name': 'Chicago White Sox'},\n",
       "   'away': {'ID': 141, 'name': 'Toronto Blue Jays'}}],\n",
       " '2021-06-09': [{'gamePk': 633783,\n",
       "   'home': {'ID': 145, 'name': 'Chicago White Sox'},\n",
       "   'away': {'ID': 141, 'name': 'Toronto Blue Jays'}}],\n",
       " '2021-06-10': [{'gamePk': 633733,\n",
       "   'home': {'ID': 145, 'name': 'Chicago White Sox'},\n",
       "   'away': {'ID': 141, 'name': 'Toronto Blue Jays'}}]}"
      ]
     },
     "execution_count": 3,
     "metadata": {},
     "output_type": "execute_result"
    }
   ],
   "source": [
    "schedule"
   ]
  },
  {
   "cell_type": "code",
   "execution_count": 4,
   "id": "f7978d54",
   "metadata": {},
   "outputs": [],
   "source": [
    "gamePks = [v[0]['gamePk'] for k, v in schedule.items()]"
   ]
  },
  {
   "cell_type": "code",
   "execution_count": 5,
   "id": "16c9dd8a",
   "metadata": {
    "scrolled": true
   },
   "outputs": [
    {
     "data": {
      "text/plain": [
       "[634642,\n",
       " 634644,\n",
       " 634607,\n",
       " 634612,\n",
       " 634635,\n",
       " 634583,\n",
       " 634545,\n",
       " 634512,\n",
       " 632227,\n",
       " 632208]"
      ]
     },
     "execution_count": 5,
     "metadata": {},
     "output_type": "execute_result"
    }
   ],
   "source": [
    "gamePks[0:10]"
   ]
  },
  {
   "cell_type": "code",
   "execution_count": 6,
   "id": "5876637a",
   "metadata": {
    "scrolled": true
   },
   "outputs": [],
   "source": [
    "import pymongo\n",
    "from pymongo import MongoClient"
   ]
  },
  {
   "cell_type": "code",
   "execution_count": 14,
   "id": "c0253274",
   "metadata": {},
   "outputs": [],
   "source": [
    "client = MongoClient('mongodb://localhost:27017/')"
   ]
  },
  {
   "cell_type": "code",
   "execution_count": 15,
   "id": "473a71b8",
   "metadata": {},
   "outputs": [],
   "source": [
    "pitchfx_db = client.test_database\n",
    "pitchfx_collection = pitchfx_db.test_collection"
   ]
  },
  {
   "cell_type": "code",
   "execution_count": 21,
   "id": "102ed72e",
   "metadata": {
    "scrolled": true
   },
   "outputs": [
    {
     "name": "stdout",
     "output_type": "stream",
     "text": [
      "634642\n",
      "634644\n",
      "634607\n",
      "634612\n",
      "634635\n",
      "634583\n",
      "634545\n",
      "634512\n",
      "632227\n",
      "632208\n",
      "632203\n",
      "634569\n",
      "634513\n",
      "634475\n",
      "634520\n",
      "634477\n",
      "634442\n",
      "634409\n",
      "634459\n",
      "634413\n",
      "634358\n",
      "634376\n",
      "634335\n",
      "634348\n",
      "634280\n",
      "634312\n",
      "634256\n",
      "634293\n",
      "634278\n",
      "634248\n",
      "634231\n",
      "634201\n",
      "634193\n",
      "634192\n",
      "634163\n",
      "634238\n",
      "634114\n",
      "634119\n",
      "634139\n",
      "634069\n",
      "634133\n",
      "634116\n",
      "634018\n",
      "634078\n",
      "634081\n",
      "633975\n",
      "633963\n",
      "633956\n",
      "633910\n",
      "633974\n",
      "633966\n",
      "634042\n",
      "633935\n",
      "633857\n",
      "633844\n",
      "633815\n",
      "633800\n",
      "633780\n",
      "633788\n",
      "633783\n",
      "633733\n",
      "Elapsed: 0:01:06.023175\n"
     ]
    }
   ],
   "source": [
    "import datetime\n",
    "start_time = datetime.datetime.now()\n",
    "\n",
    "for gamePk in gamePks:\n",
    "    print(gamePk)\n",
    "    try:\n",
    "        pitchfx_collection.insert_one(get_pitchfx(gamePk))\n",
    "    except:\n",
    "        pass\n",
    "    \n",
    "end_time = datetime.datetime.now()\n",
    "print('Elapsed:', end_time - start_time)"
   ]
  },
  {
   "cell_type": "code",
   "execution_count": 22,
   "id": "cc95ffd7",
   "metadata": {},
   "outputs": [
    {
     "data": {
      "text/plain": [
       "{'_id': ObjectId('60c20bbd8bf7ea03f4e20e20'),\n",
       " 'home_umpire': 'unter Wendelstedt'}"
      ]
     },
     "execution_count": 22,
     "metadata": {},
     "output_type": "execute_result"
    }
   ],
   "source": [
    "pitchfx_collection.find_one({})"
   ]
  },
  {
   "cell_type": "code",
   "execution_count": 25,
   "id": "c32d7c1b",
   "metadata": {},
   "outputs": [
    {
     "data": {
      "text/plain": [
       "<pymongo.cursor.Cursor at 0x7f9ff3088f40>"
      ]
     },
     "execution_count": 25,
     "metadata": {},
     "output_type": "execute_result"
    }
   ],
   "source": [
    "pitchfx_collection.find({'home_umpire': 'Mark Carlson'})"
   ]
  },
  {
   "cell_type": "code",
   "execution_count": null,
   "id": "7413012a",
   "metadata": {},
   "outputs": [],
   "source": []
  }
 ],
 "metadata": {
  "kernelspec": {
   "display_name": "Python 3",
   "language": "python",
   "name": "python3"
  },
  "language_info": {
   "codemirror_mode": {
    "name": "ipython",
    "version": 3
   },
   "file_extension": ".py",
   "mimetype": "text/x-python",
   "name": "python",
   "nbconvert_exporter": "python",
   "pygments_lexer": "ipython3",
   "version": "3.8.10"
  }
 },
 "nbformat": 4,
 "nbformat_minor": 5
}
