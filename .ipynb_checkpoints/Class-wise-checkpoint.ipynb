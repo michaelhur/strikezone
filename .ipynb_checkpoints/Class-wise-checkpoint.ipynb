{
 "cells": [
  {
   "cell_type": "code",
   "execution_count": 1,
   "id": "0ec8d808",
   "metadata": {},
   "outputs": [],
   "source": [
    "import time\n",
    "import requests\n",
    "import json\n",
    "from datetime import datetime \n",
    "import pytz\n",
    "import re\n",
    "\n",
    "eastern = pytz.timezone(\"US/Eastern\")\n",
    "fmt = \"%Y-%m-%d\"\n",
    "today = datetime.today().astimezone().strftime(fmt)\n",
    "\n",
    "base_url = \"http://statsapi.mlb.com/api/\"\n",
    "alt_base_url = \"https://beta-statsapi.mlb.com:443/api/\"\n",
    "\n",
    "\n",
    "def get_json(url):\n",
    "    ## get_json: str -> json\n",
    "    ## get_json() function takes \"url\" and returns the response in json format from the MLB Stats API.\n",
    "    \n",
    "    response = requests.get(url)\n",
    "    if (response.status_code != 200):\n",
    "        print(\"status code: %s\" % response.status_code)\n",
    "        time.sleep(1.0)\n",
    "        get_json(url)\n",
    "    else:\n",
    "        content = response.content\n",
    "        json_content = json.loads(content)\n",
    "        return(json_content)"
   ]
  },
  {
   "cell_type": "code",
   "execution_count": 5,
   "id": "1531562d",
   "metadata": {},
   "outputs": [],
   "source": [
    "class get_linescore():\n",
    "    \n",
    "    def __init__(self, gamePk):\n",
    "        self.gamePk = gamePk\n",
    "        \n",
    "    def print_gamePk(self):\n",
    "        print(self.gamePk)\n",
    "        \n",
    "        "
   ]
  },
  {
   "cell_type": "code",
   "execution_count": 6,
   "id": "2bbd1806",
   "metadata": {},
   "outputs": [],
   "source": [
    "ls = get_linescore(1234)"
   ]
  },
  {
   "cell_type": "code",
   "execution_count": 7,
   "id": "9762efd7",
   "metadata": {
    "scrolled": true
   },
   "outputs": [
    {
     "name": "stdout",
     "output_type": "stream",
     "text": [
      "1234\n"
     ]
    }
   ],
   "source": [
    "ls.print_gamePk()"
   ]
  },
  {
   "cell_type": "code",
   "execution_count": null,
   "id": "b6ed5863",
   "metadata": {},
   "outputs": [],
   "source": [
    "def get_linescore(gamePk):\n",
    "    \n",
    "    team_url = base_url + \"v1/schedule?gamePk={gamePk}\".format(gamePk = gamePk)\n",
    "    team_content = get_json(team_url)\n",
    "    \n",
    "    teams = team_content[\"dates\"][0][\"games\"][0][\"teams\"]\n",
    "    \n",
    "    team_dict = {\"teams\": {k: {x: y for x,y in v[\"team\"].items() if x == \"id\" or x == \"name\"} for k, v in teams.items()}}\n",
    "    \n",
    "    \n",
    "    ls_url = base_url + \"/v1/game/{gamePk}/linescore\".format(gamePk = gamePk)\n",
    "    linescore_content = get_json(ls_url)\n",
    "    \n",
    "    linescore_dict = {}\n",
    "    \n",
    "    innings = linescore_content[\"innings\"]\n",
    "    \n",
    "    for inning in innings:\n",
    "        inn_count = inning[\"ordinalNum\"]\n",
    "        home = {x: y for x, y in inning[\"home\"].items() if x != \"leftOnBase\"} \n",
    "        away = {x: y for x, y in inning[\"away\"].items() if x != \"leftOnBase\"} \n",
    "        \n",
    "        linescore_dict.update({inn_count: {\"home\": home, \"away\": away}})\n",
    "    \n",
    "    linescore_dict.update(team_dict)\n",
    "    \n",
    "    return(linescore_dict)\n"
   ]
  }
 ],
 "metadata": {
  "kernelspec": {
   "display_name": "Python 3",
   "language": "python",
   "name": "python3"
  },
  "language_info": {
   "codemirror_mode": {
    "name": "ipython",
    "version": 3
   },
   "file_extension": ".py",
   "mimetype": "text/x-python",
   "name": "python",
   "nbconvert_exporter": "python",
   "pygments_lexer": "ipython3",
   "version": "3.8.10"
  }
 },
 "nbformat": 4,
 "nbformat_minor": 5
}
